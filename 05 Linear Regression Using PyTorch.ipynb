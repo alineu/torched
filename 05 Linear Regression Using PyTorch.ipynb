{
 "cells": [
  {
   "cell_type": "markdown",
   "metadata": {},
   "source": [
    "# Linear Regression in PyTorch\n",
    "\n",
    "In Progress.\n",
    "\n",
    "Allows us to understand relation between two continous variables\n",
    "\n",
    "y = f(x) + c"
   ]
  },
  {
   "cell_type": "code",
   "execution_count": 1,
   "metadata": {
    "collapsed": true
   },
   "outputs": [],
   "source": [
    "import numpy as np\n",
    "import matplotlib.pyplot as plt"
   ]
  },
  {
   "cell_type": "code",
   "execution_count": 2,
   "metadata": {
    "collapsed": true
   },
   "outputs": [],
   "source": [
    "np.random.seed(1)\n",
    "n = 50\n",
    "x = np.random.randn(n)"
   ]
  },
  {
   "cell_type": "code",
   "execution_count": 3,
   "metadata": {},
   "outputs": [
    {
     "data": {
      "text/plain": [
       "array([ 1.62434536, -0.61175641, -0.52817175, -1.07296862,  0.86540763,\n",
       "       -2.3015387 ,  1.74481176, -0.7612069 ,  0.3190391 , -0.24937038,\n",
       "        1.46210794, -2.06014071, -0.3224172 , -0.38405435,  1.13376944,\n",
       "       -1.09989127, -0.17242821, -0.87785842,  0.04221375,  0.58281521,\n",
       "       -1.10061918,  1.14472371,  0.90159072,  0.50249434,  0.90085595,\n",
       "       -0.68372786, -0.12289023, -0.93576943, -0.26788808,  0.53035547,\n",
       "       -0.69166075, -0.39675353, -0.6871727 , -0.84520564, -0.67124613,\n",
       "       -0.0126646 , -1.11731035,  0.2344157 ,  1.65980218,  0.74204416,\n",
       "       -0.19183555, -0.88762896, -0.74715829,  1.6924546 ,  0.05080775,\n",
       "       -0.63699565,  0.19091548,  2.10025514,  0.12015895,  0.61720311])"
      ]
     },
     "execution_count": 3,
     "metadata": {},
     "output_type": "execute_result"
    }
   ],
   "source": [
    "x"
   ]
  },
  {
   "cell_type": "code",
   "execution_count": 4,
   "metadata": {},
   "outputs": [
    {
     "data": {
      "image/png": "[encoded data removed]",
      "text/plain": [
       "<matplotlib.figure.Figure at 0x10f9f9fd0>"
      ]
     },
     "metadata": {},
     "output_type": "display_data"
    }
   ],
   "source": [
    "y = x * (np.random.randn(n))\n",
    "colors = np.random.randn(n)\n",
    "plt.plot(np.unique(x), np.poly1d(np.polyfit(x, y, 1))(np.unique(x)))\n",
    "plt.scatter(x, y, c = colors, alpha = 0.5)\n",
    "plt.show()"
   ]
  },
  {
   "cell_type": "markdown",
   "metadata": {
    "collapsed": true
   },
   "source": [
    "# Pytorch Way"
   ]
  },
  {
   "cell_type": "markdown",
   "metadata": {},
   "source": [
    "##### Building your own dataset\n",
    "Following the equation y=2x+1"
   ]
  },
  {
   "cell_type": "code",
   "execution_count": 5,
   "metadata": {
    "collapsed": true
   },
   "outputs": [],
   "source": [
    "x_values = list()\n",
    "for i in range(0,11):\n",
    "    x_values.append(i)"
   ]
  },
  {
   "cell_type": "code",
   "execution_count": 6,
   "metadata": {},
   "outputs": [
    {
     "data": {
      "text/plain": [
       "[0, 1, 2, 3, 4, 5, 6, 7, 8, 9, 10]"
      ]
     },
     "execution_count": 6,
     "metadata": {},
     "output_type": "execute_result"
    }
   ],
   "source": [
    "x_values"
   ]
  },
  {
   "cell_type": "code",
   "execution_count": 7,
   "metadata": {},
   "outputs": [
    {
     "name": "stdout",
     "output_type": "stream",
     "text": [
      "[ 0.  1.  2.  3.  4.  5.  6.  7.  8.  9. 10.]\n",
      "<class 'numpy.ndarray'>\n",
      "(11,)\n",
      "(11, 1)\n"
     ]
    }
   ],
   "source": [
    "x_train = np.array(x_values, dtype = np.float32)\n",
    "print(x_train)\n",
    "print(type(x_train))\n",
    "print(x_train.shape)\n",
    "x_train = x_train.reshape(-1,1)\n",
    "print(x_train.shape)"
   ]
  },
  {
   "cell_type": "code",
   "execution_count": 8,
   "metadata": {},
   "outputs": [
    {
     "data": {
      "text/plain": [
       "[1, 3, 5, 7, 9, 11, 13, 15, 17, 19, 21]"
      ]
     },
     "execution_count": 8,
     "metadata": {},
     "output_type": "execute_result"
    }
   ],
   "source": [
    "y_values = [2*i + 1 for i in x_values]\n",
    "y_values"
   ]
  },
  {
   "cell_type": "code",
   "execution_count": 9,
   "metadata": {},
   "outputs": [
    {
     "name": "stdout",
     "output_type": "stream",
     "text": [
      "[ 1.  3.  5.  7.  9. 11. 13. 15. 17. 19. 21.]\n",
      "<class 'numpy.ndarray'>\n",
      "(11,)\n",
      "(11, 1)\n"
     ]
    }
   ],
   "source": [
    "y_train = np.array(y_values, dtype = np.float32)\n",
    "print(y_train)\n",
    "print(type(y_train))\n",
    "print(y_train.shape)\n",
    "y_train = y_train.reshape(-1,1)\n",
    "print(y_train.shape)"
   ]
  },
  {
   "cell_type": "code",
   "execution_count": 10,
   "metadata": {
    "collapsed": true
   },
   "outputs": [],
   "source": [
    "import torch\n",
    "import torch.nn as nn\n",
    "from torch.autograd import Variable"
   ]
  },
  {
   "cell_type": "code",
   "execution_count": 11,
   "metadata": {
    "collapsed": true
   },
   "outputs": [],
   "source": [
    "class LinearRegression(nn.Module):\n",
    "    def __init__(self, input_size, output_size):\n",
    "        super(LinearRegression, self).__init__()\n",
    "        self.linear = nn.Linear(input_dim, output_dim)\n",
    "    \n",
    "    def forward(self, x):\n",
    "        out = self.linear(x)\n",
    "        return out"
   ]
  },
  {
   "cell_type": "code",
   "execution_count": 12,
   "metadata": {
    "collapsed": true
   },
   "outputs": [],
   "source": [
    "input_dim, output_dim = 1, 1"
   ]
  },
  {
   "cell_type": "code",
   "execution_count": 13,
   "metadata": {
    "collapsed": true
   },
   "outputs": [],
   "source": [
    "model = LinearRegression(input_dim, output_dim)"
   ]
  },
  {
   "cell_type": "code",
   "execution_count": 14,
   "metadata": {},
   "outputs": [
    {
     "data": {
      "text/plain": [
       "LinearRegression(\n",
       "  (linear): Linear(in_features=1, out_features=1, bias=True)\n",
       ")"
      ]
     },
     "execution_count": 14,
     "metadata": {},
     "output_type": "execute_result"
    }
   ],
   "source": [
    "model.train()"
   ]
  },
  {
   "cell_type": "code",
   "execution_count": 15,
   "metadata": {
    "collapsed": true
   },
   "outputs": [],
   "source": [
    "criterion = nn.MSELoss()"
   ]
  },
  {
   "cell_type": "code",
   "execution_count": 16,
   "metadata": {
    "collapsed": true
   },
   "outputs": [],
   "source": [
    "learning_rate = 0.01"
   ]
  },
  {
   "cell_type": "code",
   "execution_count": 17,
   "metadata": {
    "collapsed": true
   },
   "outputs": [],
   "source": [
    "optimizer = torch.optim.SGD(model.parameters(), lr = learning_rate)"
   ]
  },
  {
   "cell_type": "code",
   "execution_count": 18,
   "metadata": {},
   "outputs": [
    {
     "name": "stdout",
     "output_type": "stream",
     "text": [
      "Epoch: 1, Loss: 107.191650390625\n",
      "Epoch: 2, Loss: 9.15524959564209\n",
      "Epoch: 3, Loss: 1.1541284322738647\n",
      "Epoch: 4, Loss: 0.4969533085823059\n",
      "Epoch: 5, Loss: 0.4388514459133148\n",
      "Epoch: 6, Loss: 0.42966410517692566\n",
      "Epoch: 7, Loss: 0.42451655864715576\n",
      "Epoch: 8, Loss: 0.4197474420070648\n",
      "Epoch: 9, Loss: 0.41505783796310425\n",
      "Epoch: 10, Loss: 0.41042280197143555\n",
      "Epoch: 11, Loss: 0.4058395326137543\n",
      "Epoch: 12, Loss: 0.4013076722621918\n",
      "Epoch: 13, Loss: 0.3968265652656555\n",
      "Epoch: 14, Loss: 0.39239510893821716\n",
      "Epoch: 15, Loss: 0.3880133330821991\n",
      "Epoch: 16, Loss: 0.383680522441864\n",
      "Epoch: 17, Loss: 0.3793956935405731\n",
      "Epoch: 18, Loss: 0.37515926361083984\n",
      "Epoch: 19, Loss: 0.3709697425365448\n",
      "Epoch: 20, Loss: 0.3668273985385895\n",
      "Epoch: 21, Loss: 0.36273109912872314\n",
      "Epoch: 22, Loss: 0.35868039727211\n",
      "Epoch: 23, Loss: 0.3546751141548157\n",
      "Epoch: 24, Loss: 0.35071465373039246\n",
      "Epoch: 25, Loss: 0.34679844975471497\n",
      "Epoch: 26, Loss: 0.3429257869720459\n",
      "Epoch: 27, Loss: 0.3390960395336151\n",
      "Epoch: 28, Loss: 0.3353094756603241\n",
      "Epoch: 29, Loss: 0.33156514167785645\n",
      "Epoch: 30, Loss: 0.32786253094673157\n",
      "Epoch: 31, Loss: 0.32420167326927185\n",
      "Epoch: 32, Loss: 0.32058098912239075\n",
      "Epoch: 33, Loss: 0.3170013725757599\n",
      "Epoch: 34, Loss: 0.31346121430397034\n",
      "Epoch: 35, Loss: 0.30996090173721313\n",
      "Epoch: 36, Loss: 0.3064996004104614\n",
      "Epoch: 37, Loss: 0.3030768036842346\n",
      "Epoch: 38, Loss: 0.29969289898872375\n",
      "Epoch: 39, Loss: 0.29634612798690796\n",
      "Epoch: 40, Loss: 0.2930368185043335\n",
      "Epoch: 41, Loss: 0.28976449370384216\n",
      "Epoch: 42, Loss: 0.28652864694595337\n",
      "Epoch: 43, Loss: 0.2833288609981537\n",
      "Epoch: 44, Loss: 0.28016507625579834\n",
      "Epoch: 45, Loss: 0.27703672647476196\n",
      "Epoch: 46, Loss: 0.273942768573761\n",
      "Epoch: 47, Loss: 0.27088406682014465\n",
      "Epoch: 48, Loss: 0.2678591012954712\n",
      "Epoch: 49, Loss: 0.2648679316043854\n",
      "Epoch: 50, Loss: 0.26191025972366333\n",
      "Epoch: 51, Loss: 0.2589852809906006\n",
      "Epoch: 52, Loss: 0.2560933828353882\n",
      "Epoch: 53, Loss: 0.2532337009906769\n",
      "Epoch: 54, Loss: 0.2504056990146637\n",
      "Epoch: 55, Loss: 0.247609481215477\n",
      "Epoch: 56, Loss: 0.2448444813489914\n",
      "Epoch: 57, Loss: 0.24211035668849945\n",
      "Epoch: 58, Loss: 0.2394067794084549\n",
      "Epoch: 59, Loss: 0.23673345148563385\n",
      "Epoch: 60, Loss: 0.23408985137939453\n",
      "Epoch: 61, Loss: 0.23147578537464142\n",
      "Epoch: 62, Loss: 0.2288910299539566\n",
      "Epoch: 63, Loss: 0.22633476555347443\n",
      "Epoch: 64, Loss: 0.22380755841732025\n",
      "Epoch: 65, Loss: 0.22130821645259857\n",
      "Epoch: 66, Loss: 0.21883682906627655\n",
      "Epoch: 67, Loss: 0.21639321744441986\n",
      "Epoch: 68, Loss: 0.21397696435451508\n",
      "Epoch: 69, Loss: 0.21158736944198608\n",
      "Epoch: 70, Loss: 0.20922479033470154\n",
      "Epoch: 71, Loss: 0.206888347864151\n",
      "Epoch: 72, Loss: 0.2045777291059494\n",
      "Epoch: 73, Loss: 0.20229345560073853\n",
      "Epoch: 74, Loss: 0.2000344842672348\n",
      "Epoch: 75, Loss: 0.1978006213903427\n",
      "Epoch: 76, Loss: 0.1955917477607727\n",
      "Epoch: 77, Loss: 0.1934078186750412\n",
      "Epoch: 78, Loss: 0.19124799966812134\n",
      "Epoch: 79, Loss: 0.18911240994930267\n",
      "Epoch: 80, Loss: 0.187000572681427\n",
      "Epoch: 81, Loss: 0.18491214513778687\n",
      "Epoch: 82, Loss: 0.18284741044044495\n",
      "Epoch: 83, Loss: 0.18080554902553558\n",
      "Epoch: 84, Loss: 0.17878665030002594\n",
      "Epoch: 85, Loss: 0.1767900437116623\n",
      "Epoch: 86, Loss: 0.17481590807437897\n",
      "Epoch: 87, Loss: 0.1728636920452118\n",
      "Epoch: 88, Loss: 0.17093344032764435\n",
      "Epoch: 89, Loss: 0.16902481019496918\n",
      "Epoch: 90, Loss: 0.16713716089725494\n",
      "Epoch: 91, Loss: 0.16527070105075836\n",
      "Epoch: 92, Loss: 0.1634252816438675\n",
      "Epoch: 93, Loss: 0.16160041093826294\n",
      "Epoch: 94, Loss: 0.15979567170143127\n",
      "Epoch: 95, Loss: 0.1580112874507904\n",
      "Epoch: 96, Loss: 0.15624679625034332\n",
      "Epoch: 97, Loss: 0.1545020490884781\n",
      "Epoch: 98, Loss: 0.1527765840291977\n",
      "Epoch: 99, Loss: 0.15107062458992004\n",
      "Epoch: 100, Loss: 0.14938358962535858\n"
     ]
    }
   ],
   "source": [
    "epochs = 100\n",
    "\n",
    "for epoch in range(epochs):\n",
    "    epoch = epoch + 1\n",
    "    inputs = Variable(torch.from_numpy(x_train))\n",
    "    labels = Variable(torch.from_numpy(y_train))\n",
    "    \n",
    "    optimizer.zero_grad()\n",
    "    \n",
    "    ouputs = model(inputs)\n",
    "    \n",
    "    loss = criterion(ouputs, labels)\n",
    "    \n",
    "    loss.backward()\n",
    "    \n",
    "    optimizer.step()\n",
    "    \n",
    "    print(\"Epoch: {}, Loss: {}\".format(epoch, loss.data[0]))\n",
    "    "
   ]
  },
  {
   "cell_type": "code",
   "execution_count": 19,
   "metadata": {
    "collapsed": true
   },
   "outputs": [],
   "source": [
    "predicted = model(Variable(torch.from_numpy(x_train))).data.cpu().numpy()"
   ]
  },
  {
   "cell_type": "code",
   "execution_count": 20,
   "metadata": {},
   "outputs": [
    {
     "data": {
      "text/plain": [
       "array([[ 0.28102824],\n",
       "       [ 2.3845668 ],\n",
       "       [ 4.4881053 ],\n",
       "       [ 6.591644  ],\n",
       "       [ 8.695182  ],\n",
       "       [10.79872   ],\n",
       "       [12.902259  ],\n",
       "       [15.005797  ],\n",
       "       [17.109337  ],\n",
       "       [19.212875  ],\n",
       "       [21.316414  ]], dtype=float32)"
      ]
     },
     "execution_count": 20,
     "metadata": {},
     "output_type": "execute_result"
    }
   ],
   "source": [
    "predicted"
   ]
  },
  {
   "cell_type": "code",
   "execution_count": 21,
   "metadata": {},
   "outputs": [
    {
     "data": {
      "text/plain": [
       "array([[ 1.],\n",
       "       [ 3.],\n",
       "       [ 5.],\n",
       "       [ 7.],\n",
       "       [ 9.],\n",
       "       [11.],\n",
       "       [13.],\n",
       "       [15.],\n",
       "       [17.],\n",
       "       [19.],\n",
       "       [21.]], dtype=float32)"
      ]
     },
     "execution_count": 21,
     "metadata": {},
     "output_type": "execute_result"
    }
   ],
   "source": [
    "# y = 2x+1\n",
    "y_train"
   ]
  },
  {
   "cell_type": "code",
   "execution_count": 22,
   "metadata": {},
   "outputs": [
    {
     "data": {
      "image/png": "[encoded data removed]",
      "text/plain": [
       "<matplotlib.figure.Figure at 0x111a7d860>"
      ]
     },
     "metadata": {},
     "output_type": "display_data"
    }
   ],
   "source": [
    "plt.clf()\n",
    "\n",
    "predicted = model(Variable(torch.from_numpy(x_train))).data.cpu().numpy()\n",
    "\n",
    "plt.plot(x_train, y_train, 'go', label = \"Original Data\", alpha = 0.5)\n",
    "\n",
    "plt.plot(x_train, predicted, \"--\", label = \"Predicted Data\", alpha = 0.5)\n",
    "\n",
    "plt.legend(loc = \"best\")\n",
    "\n",
    "plt.show()\n"
   ]
  }
 ],
 "metadata": {
  "kernelspec": {
   "display_name": "Python 3",
   "language": "python",
   "name": "python3"
  },
  "language_info": {
   "codemirror_mode": {
    "name": "ipython",
    "version": 3
   },
   "file_extension": ".py",
   "mimetype": "text/x-python",
   "name": "python",
   "nbconvert_exporter": "python",
   "pygments_lexer": "ipython3",
   "version": "3.6.2"
  }
 },
 "nbformat": 4,
 "nbformat_minor": 2
}
